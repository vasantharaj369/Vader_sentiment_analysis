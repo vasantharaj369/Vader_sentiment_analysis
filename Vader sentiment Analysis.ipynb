{
 "cells": [
  {
   "cell_type": "code",
   "execution_count": 1,
   "id": "38309fe5",
   "metadata": {},
   "outputs": [],
   "source": [
    "# importing the required libraries\n",
    "\n",
    "import numpy as np\n",
    "import pandas as pd\n",
    "import seaborn as sns\n",
    "import matplotlib.pyplot as plt\n",
    "import re\n",
    "from tqdm import tqdm\n",
    "import warnings\n",
    "warnings.filterwarnings('ignore')"
   ]
  },
  {
   "cell_type": "code",
   "execution_count": 2,
   "id": "a410c16e",
   "metadata": {
    "scrolled": true
   },
   "outputs": [
    {
     "data": {
      "text/html": [
       "<div>\n",
       "<style scoped>\n",
       "    .dataframe tbody tr th:only-of-type {\n",
       "        vertical-align: middle;\n",
       "    }\n",
       "\n",
       "    .dataframe tbody tr th {\n",
       "        vertical-align: top;\n",
       "    }\n",
       "\n",
       "    .dataframe thead th {\n",
       "        text-align: right;\n",
       "    }\n",
       "</style>\n",
       "<table border=\"1\" class=\"dataframe\">\n",
       "  <thead>\n",
       "    <tr style=\"text-align: right;\">\n",
       "      <th></th>\n",
       "      <th>Product_name</th>\n",
       "      <th>Price</th>\n",
       "      <th>Rating</th>\n",
       "      <th>Review</th>\n",
       "      <th>Summary</th>\n",
       "    </tr>\n",
       "  </thead>\n",
       "  <tbody>\n",
       "    <tr>\n",
       "      <th>0</th>\n",
       "      <td>Crompton 75 L Desert Air Cooler-(White, Teal, ...</td>\n",
       "      <td>₹10,499.00</td>\n",
       "      <td>5</td>\n",
       "      <td>Simply awesome</td>\n",
       "      <td>it's really worth every single penny. it works...</td>\n",
       "    </tr>\n",
       "    <tr>\n",
       "      <th>1</th>\n",
       "      <td>Crompton 75 L Desert Air Cooler-(White, Teal, ...</td>\n",
       "      <td>₹10,499.00</td>\n",
       "      <td>4</td>\n",
       "      <td>Worth the money . Desert Cooler live up to the...</td>\n",
       "      <td>I bought Crompton Ozone 75 Desert Air Cooler i...</td>\n",
       "    </tr>\n",
       "    <tr>\n",
       "      <th>2</th>\n",
       "      <td>Crompton 75 L Desert Air Cooler-(White, Teal, ...</td>\n",
       "      <td>₹10,499.00</td>\n",
       "      <td>5</td>\n",
       "      <td>Worth every penny</td>\n",
       "      <td>GREAT packaging by seller. As this was the mos...</td>\n",
       "    </tr>\n",
       "    <tr>\n",
       "      <th>3</th>\n",
       "      <td>Crompton 75 L Desert Air Cooler-(White, Teal, ...</td>\n",
       "      <td>₹10,499.00</td>\n",
       "      <td>5</td>\n",
       "      <td>Fabulous!</td>\n",
       "      <td>Delivery was delayed by two days except this e...</td>\n",
       "    </tr>\n",
       "    <tr>\n",
       "      <th>4</th>\n",
       "      <td>Crompton 75 L Desert Air Cooler-(White, Teal, ...</td>\n",
       "      <td>₹10,499.00</td>\n",
       "      <td>4</td>\n",
       "      <td>Nice product</td>\n",
       "      <td>A Good cooler by Crompton. The height of the c...</td>\n",
       "    </tr>\n",
       "  </tbody>\n",
       "</table>\n",
       "</div>"
      ],
      "text/plain": [
       "                                        Product_name       Price  Rating  \\\n",
       "0  Crompton 75 L Desert Air Cooler-(White, Teal, ...  ₹10,499.00       5   \n",
       "1  Crompton 75 L Desert Air Cooler-(White, Teal, ...  ₹10,499.00       4   \n",
       "2  Crompton 75 L Desert Air Cooler-(White, Teal, ...  ₹10,499.00       5   \n",
       "3  Crompton 75 L Desert Air Cooler-(White, Teal, ...  ₹10,499.00       5   \n",
       "4  Crompton 75 L Desert Air Cooler-(White, Teal, ...  ₹10,499.00       4   \n",
       "\n",
       "                                              Review  \\\n",
       "0                                     Simply awesome   \n",
       "1  Worth the money . Desert Cooler live up to the...   \n",
       "2                                  Worth every penny   \n",
       "3                                          Fabulous!   \n",
       "4                                       Nice product   \n",
       "\n",
       "                                             Summary  \n",
       "0  it's really worth every single penny. it works...  \n",
       "1  I bought Crompton Ozone 75 Desert Air Cooler i...  \n",
       "2  GREAT packaging by seller. As this was the mos...  \n",
       "3  Delivery was delayed by two days except this e...  \n",
       "4  A Good cooler by Crompton. The height of the c...  "
      ]
     },
     "execution_count": 2,
     "metadata": {},
     "output_type": "execute_result"
    }
   ],
   "source": [
    "# loading dataset\n",
    "\n",
    "df = pd.read_csv('Flipkart_Dataset.csv')\n",
    "df.head()"
   ]
  },
  {
   "cell_type": "code",
   "execution_count": 3,
   "id": "b9b273ca",
   "metadata": {},
   "outputs": [
    {
     "data": {
      "text/html": [
       "<div>\n",
       "<style scoped>\n",
       "    .dataframe tbody tr th:only-of-type {\n",
       "        vertical-align: middle;\n",
       "    }\n",
       "\n",
       "    .dataframe tbody tr th {\n",
       "        vertical-align: top;\n",
       "    }\n",
       "\n",
       "    .dataframe thead th {\n",
       "        text-align: right;\n",
       "    }\n",
       "</style>\n",
       "<table border=\"1\" class=\"dataframe\">\n",
       "  <thead>\n",
       "    <tr style=\"text-align: right;\">\n",
       "      <th></th>\n",
       "      <th>Product_name</th>\n",
       "      <th>Rating</th>\n",
       "      <th>Review</th>\n",
       "      <th>Summary</th>\n",
       "    </tr>\n",
       "  </thead>\n",
       "  <tbody>\n",
       "    <tr>\n",
       "      <th>0</th>\n",
       "      <td>Crompton 75 L Desert Air Cooler-(White, Teal, ...</td>\n",
       "      <td>5</td>\n",
       "      <td>Simply awesome</td>\n",
       "      <td>it's really worth every single penny. it works...</td>\n",
       "    </tr>\n",
       "    <tr>\n",
       "      <th>1</th>\n",
       "      <td>Crompton 75 L Desert Air Cooler-(White, Teal, ...</td>\n",
       "      <td>4</td>\n",
       "      <td>Worth the money . Desert Cooler live up to the...</td>\n",
       "      <td>I bought Crompton Ozone 75 Desert Air Cooler i...</td>\n",
       "    </tr>\n",
       "    <tr>\n",
       "      <th>2</th>\n",
       "      <td>Crompton 75 L Desert Air Cooler-(White, Teal, ...</td>\n",
       "      <td>5</td>\n",
       "      <td>Worth every penny</td>\n",
       "      <td>GREAT packaging by seller. As this was the mos...</td>\n",
       "    </tr>\n",
       "    <tr>\n",
       "      <th>3</th>\n",
       "      <td>Crompton 75 L Desert Air Cooler-(White, Teal, ...</td>\n",
       "      <td>5</td>\n",
       "      <td>Fabulous!</td>\n",
       "      <td>Delivery was delayed by two days except this e...</td>\n",
       "    </tr>\n",
       "    <tr>\n",
       "      <th>4</th>\n",
       "      <td>Crompton 75 L Desert Air Cooler-(White, Teal, ...</td>\n",
       "      <td>4</td>\n",
       "      <td>Nice product</td>\n",
       "      <td>A Good cooler by Crompton. The height of the c...</td>\n",
       "    </tr>\n",
       "  </tbody>\n",
       "</table>\n",
       "</div>"
      ],
      "text/plain": [
       "                                        Product_name  Rating  \\\n",
       "0  Crompton 75 L Desert Air Cooler-(White, Teal, ...       5   \n",
       "1  Crompton 75 L Desert Air Cooler-(White, Teal, ...       4   \n",
       "2  Crompton 75 L Desert Air Cooler-(White, Teal, ...       5   \n",
       "3  Crompton 75 L Desert Air Cooler-(White, Teal, ...       5   \n",
       "4  Crompton 75 L Desert Air Cooler-(White, Teal, ...       4   \n",
       "\n",
       "                                              Review  \\\n",
       "0                                     Simply awesome   \n",
       "1  Worth the money . Desert Cooler live up to the...   \n",
       "2                                  Worth every penny   \n",
       "3                                          Fabulous!   \n",
       "4                                       Nice product   \n",
       "\n",
       "                                             Summary  \n",
       "0  it's really worth every single penny. it works...  \n",
       "1  I bought Crompton Ozone 75 Desert Air Cooler i...  \n",
       "2  GREAT packaging by seller. As this was the mos...  \n",
       "3  Delivery was delayed by two days except this e...  \n",
       "4  A Good cooler by Crompton. The height of the c...  "
      ]
     },
     "execution_count": 3,
     "metadata": {},
     "output_type": "execute_result"
    }
   ],
   "source": [
    "# dropping the unwanted columns\n",
    "\n",
    "df = df[['Product_name', 'Rating', 'Review', 'Summary']]\n",
    "df.head()"
   ]
  },
  {
   "cell_type": "code",
   "execution_count": 4,
   "id": "b2b91163",
   "metadata": {},
   "outputs": [
    {
     "data": {
      "text/plain": [
       "(20801, 4)"
      ]
     },
     "execution_count": 4,
     "metadata": {},
     "output_type": "execute_result"
    }
   ],
   "source": [
    "# checking the shape\n",
    "\n",
    "df.shape"
   ]
  },
  {
   "cell_type": "code",
   "execution_count": 5,
   "id": "e3cfa055",
   "metadata": {},
   "outputs": [
    {
     "data": {
      "text/plain": [
       "1774"
      ]
     },
     "execution_count": 5,
     "metadata": {},
     "output_type": "execute_result"
    }
   ],
   "source": [
    "# checking for duplicates\n",
    "\n",
    "df.duplicated().sum()"
   ]
  },
  {
   "cell_type": "code",
   "execution_count": 6,
   "id": "9efe47d1",
   "metadata": {},
   "outputs": [
    {
     "data": {
      "text/html": [
       "<div>\n",
       "<style scoped>\n",
       "    .dataframe tbody tr th:only-of-type {\n",
       "        vertical-align: middle;\n",
       "    }\n",
       "\n",
       "    .dataframe tbody tr th {\n",
       "        vertical-align: top;\n",
       "    }\n",
       "\n",
       "    .dataframe thead th {\n",
       "        text-align: right;\n",
       "    }\n",
       "</style>\n",
       "<table border=\"1\" class=\"dataframe\">\n",
       "  <thead>\n",
       "    <tr style=\"text-align: right;\">\n",
       "      <th></th>\n",
       "      <th>Product_name</th>\n",
       "      <th>Rating</th>\n",
       "      <th>Review</th>\n",
       "      <th>Summary</th>\n",
       "    </tr>\n",
       "  </thead>\n",
       "  <tbody>\n",
       "    <tr>\n",
       "      <th>0</th>\n",
       "      <td>Crompton 75 L Desert Air Cooler-(White, Teal, ...</td>\n",
       "      <td>5</td>\n",
       "      <td>Simply awesome</td>\n",
       "      <td>it's really worth every single penny. it works...</td>\n",
       "    </tr>\n",
       "    <tr>\n",
       "      <th>1</th>\n",
       "      <td>Crompton 75 L Desert Air Cooler-(White, Teal, ...</td>\n",
       "      <td>4</td>\n",
       "      <td>Worth the money . Desert Cooler live up to the...</td>\n",
       "      <td>I bought Crompton Ozone 75 Desert Air Cooler i...</td>\n",
       "    </tr>\n",
       "    <tr>\n",
       "      <th>2</th>\n",
       "      <td>Crompton 75 L Desert Air Cooler-(White, Teal, ...</td>\n",
       "      <td>5</td>\n",
       "      <td>Worth every penny</td>\n",
       "      <td>GREAT packaging by seller. As this was the mos...</td>\n",
       "    </tr>\n",
       "    <tr>\n",
       "      <th>3</th>\n",
       "      <td>Crompton 75 L Desert Air Cooler-(White, Teal, ...</td>\n",
       "      <td>5</td>\n",
       "      <td>Fabulous!</td>\n",
       "      <td>Delivery was delayed by two days except this e...</td>\n",
       "    </tr>\n",
       "    <tr>\n",
       "      <th>4</th>\n",
       "      <td>Crompton 75 L Desert Air Cooler-(White, Teal, ...</td>\n",
       "      <td>4</td>\n",
       "      <td>Nice product</td>\n",
       "      <td>A Good cooler by Crompton. The height of the c...</td>\n",
       "    </tr>\n",
       "  </tbody>\n",
       "</table>\n",
       "</div>"
      ],
      "text/plain": [
       "                                        Product_name  Rating  \\\n",
       "0  Crompton 75 L Desert Air Cooler-(White, Teal, ...       5   \n",
       "1  Crompton 75 L Desert Air Cooler-(White, Teal, ...       4   \n",
       "2  Crompton 75 L Desert Air Cooler-(White, Teal, ...       5   \n",
       "3  Crompton 75 L Desert Air Cooler-(White, Teal, ...       5   \n",
       "4  Crompton 75 L Desert Air Cooler-(White, Teal, ...       4   \n",
       "\n",
       "                                              Review  \\\n",
       "0                                     Simply awesome   \n",
       "1  Worth the money . Desert Cooler live up to the...   \n",
       "2                                  Worth every penny   \n",
       "3                                          Fabulous!   \n",
       "4                                       Nice product   \n",
       "\n",
       "                                             Summary  \n",
       "0  it's really worth every single penny. it works...  \n",
       "1  I bought Crompton Ozone 75 Desert Air Cooler i...  \n",
       "2  GREAT packaging by seller. As this was the mos...  \n",
       "3  Delivery was delayed by two days except this e...  \n",
       "4  A Good cooler by Crompton. The height of the c...  "
      ]
     },
     "execution_count": 6,
     "metadata": {},
     "output_type": "execute_result"
    }
   ],
   "source": [
    "# dropping the duplicates\n",
    "\n",
    "df = df.drop_duplicates().reset_index(drop = True)\n",
    "df.head()"
   ]
  },
  {
   "cell_type": "code",
   "execution_count": 7,
   "id": "ecf8df01",
   "metadata": {
    "scrolled": true
   },
   "outputs": [
    {
     "data": {
      "text/plain": [
       "Product_name    0\n",
       "Rating          0\n",
       "Review          0\n",
       "Summary         0\n",
       "dtype: int64"
      ]
     },
     "execution_count": 7,
     "metadata": {},
     "output_type": "execute_result"
    }
   ],
   "source": [
    "# checking for null values\n",
    "\n",
    "df.isnull().sum()"
   ]
  },
  {
   "cell_type": "markdown",
   "id": "0ab588b5",
   "metadata": {},
   "source": [
    "# Analysing the Product column"
   ]
  },
  {
   "cell_type": "code",
   "execution_count": 8,
   "id": "96b8a61c",
   "metadata": {
    "scrolled": true
   },
   "outputs": [
    {
     "data": {
      "text/html": [
       "<div>\n",
       "<style scoped>\n",
       "    .dataframe tbody tr th:only-of-type {\n",
       "        vertical-align: middle;\n",
       "    }\n",
       "\n",
       "    .dataframe tbody tr th {\n",
       "        vertical-align: top;\n",
       "    }\n",
       "\n",
       "    .dataframe thead th {\n",
       "        text-align: right;\n",
       "    }\n",
       "</style>\n",
       "<table border=\"1\" class=\"dataframe\">\n",
       "  <thead>\n",
       "    <tr style=\"text-align: right;\">\n",
       "      <th></th>\n",
       "      <th>Product_name</th>\n",
       "      <th>Rating</th>\n",
       "      <th>Review</th>\n",
       "      <th>Summary</th>\n",
       "    </tr>\n",
       "  </thead>\n",
       "  <tbody>\n",
       "    <tr>\n",
       "      <th>0</th>\n",
       "      <td>Crompton</td>\n",
       "      <td>5</td>\n",
       "      <td>Simply awesome</td>\n",
       "      <td>it's really worth every single penny. it works...</td>\n",
       "    </tr>\n",
       "    <tr>\n",
       "      <th>1</th>\n",
       "      <td>Crompton</td>\n",
       "      <td>4</td>\n",
       "      <td>Worth the money . Desert Cooler live up to the...</td>\n",
       "      <td>I bought Crompton Ozone 75 Desert Air Cooler i...</td>\n",
       "    </tr>\n",
       "    <tr>\n",
       "      <th>2</th>\n",
       "      <td>Crompton</td>\n",
       "      <td>5</td>\n",
       "      <td>Worth every penny</td>\n",
       "      <td>GREAT packaging by seller. As this was the mos...</td>\n",
       "    </tr>\n",
       "    <tr>\n",
       "      <th>3</th>\n",
       "      <td>Crompton</td>\n",
       "      <td>5</td>\n",
       "      <td>Fabulous!</td>\n",
       "      <td>Delivery was delayed by two days except this e...</td>\n",
       "    </tr>\n",
       "    <tr>\n",
       "      <th>4</th>\n",
       "      <td>Crompton</td>\n",
       "      <td>4</td>\n",
       "      <td>Nice product</td>\n",
       "      <td>A Good cooler by Crompton. The height of the c...</td>\n",
       "    </tr>\n",
       "  </tbody>\n",
       "</table>\n",
       "</div>"
      ],
      "text/plain": [
       "  Product_name  Rating                                             Review  \\\n",
       "0     Crompton       5                                     Simply awesome   \n",
       "1     Crompton       4  Worth the money . Desert Cooler live up to the...   \n",
       "2     Crompton       5                                  Worth every penny   \n",
       "3     Crompton       5                                          Fabulous!   \n",
       "4     Crompton       4                                       Nice product   \n",
       "\n",
       "                                             Summary  \n",
       "0  it's really worth every single penny. it works...  \n",
       "1  I bought Crompton Ozone 75 Desert Air Cooler i...  \n",
       "2  GREAT packaging by seller. As this was the mos...  \n",
       "3  Delivery was delayed by two days except this e...  \n",
       "4  A Good cooler by Crompton. The height of the c...  "
      ]
     },
     "execution_count": 8,
     "metadata": {},
     "output_type": "execute_result"
    }
   ],
   "source": [
    "df['Product_name'] = df['Product_name'].str.split().str[0]\n",
    "df.head()"
   ]
  },
  {
   "cell_type": "code",
   "execution_count": 9,
   "id": "ba2e37dc",
   "metadata": {
    "scrolled": false
   },
   "outputs": [
    {
     "data": {
      "text/plain": [
       "Product_name\n",
       "Crompton      9675\n",
       "Hindware      2904\n",
       "Cosito        1877\n",
       "Symphony      1364\n",
       "FLIPZON       1181\n",
       "METRO          372\n",
       "S              297\n",
       "Simple         290\n",
       "Goodrik        284\n",
       "CLOTHOLOGY     107\n",
       "aniket         106\n",
       "Zofiy          100\n",
       "Furnifry        99\n",
       "Bhimada         98\n",
       "colcum          98\n",
       "POOWEREST       52\n",
       "Growing         42\n",
       "Yogini          37\n",
       "BAJAJ           27\n",
       "Candes          17\n",
       "Name: count, dtype: int64"
      ]
     },
     "execution_count": 9,
     "metadata": {},
     "output_type": "execute_result"
    }
   ],
   "source": [
    "df['Product_name'].value_counts()"
   ]
  },
  {
   "cell_type": "code",
   "execution_count": 10,
   "id": "c1ce60d9",
   "metadata": {},
   "outputs": [
    {
     "data": {
      "text/html": [
       "<div>\n",
       "<style scoped>\n",
       "    .dataframe tbody tr th:only-of-type {\n",
       "        vertical-align: middle;\n",
       "    }\n",
       "\n",
       "    .dataframe tbody tr th {\n",
       "        vertical-align: top;\n",
       "    }\n",
       "\n",
       "    .dataframe thead th {\n",
       "        text-align: right;\n",
       "    }\n",
       "</style>\n",
       "<table border=\"1\" class=\"dataframe\">\n",
       "  <thead>\n",
       "    <tr style=\"text-align: right;\">\n",
       "      <th></th>\n",
       "      <th>Product_name</th>\n",
       "      <th>Rating</th>\n",
       "      <th>Review</th>\n",
       "      <th>Summary</th>\n",
       "    </tr>\n",
       "  </thead>\n",
       "  <tbody>\n",
       "    <tr>\n",
       "      <th>0</th>\n",
       "      <td>Crompton</td>\n",
       "      <td>5</td>\n",
       "      <td>Simply awesome</td>\n",
       "      <td>it's really worth every single penny. it works...</td>\n",
       "    </tr>\n",
       "    <tr>\n",
       "      <th>1</th>\n",
       "      <td>Crompton</td>\n",
       "      <td>4</td>\n",
       "      <td>Worth the money . Desert Cooler live up to the...</td>\n",
       "      <td>I bought Crompton Ozone 75 Desert Air Cooler i...</td>\n",
       "    </tr>\n",
       "    <tr>\n",
       "      <th>2</th>\n",
       "      <td>Crompton</td>\n",
       "      <td>5</td>\n",
       "      <td>Worth every penny</td>\n",
       "      <td>GREAT packaging by seller. As this was the mos...</td>\n",
       "    </tr>\n",
       "    <tr>\n",
       "      <th>3</th>\n",
       "      <td>Crompton</td>\n",
       "      <td>5</td>\n",
       "      <td>Fabulous!</td>\n",
       "      <td>Delivery was delayed by two days except this e...</td>\n",
       "    </tr>\n",
       "    <tr>\n",
       "      <th>4</th>\n",
       "      <td>Crompton</td>\n",
       "      <td>4</td>\n",
       "      <td>Nice product</td>\n",
       "      <td>A Good cooler by Crompton. The height of the c...</td>\n",
       "    </tr>\n",
       "  </tbody>\n",
       "</table>\n",
       "</div>"
      ],
      "text/plain": [
       "  Product_name  Rating                                             Review  \\\n",
       "0     Crompton       5                                     Simply awesome   \n",
       "1     Crompton       4  Worth the money . Desert Cooler live up to the...   \n",
       "2     Crompton       5                                  Worth every penny   \n",
       "3     Crompton       5                                          Fabulous!   \n",
       "4     Crompton       4                                       Nice product   \n",
       "\n",
       "                                             Summary  \n",
       "0  it's really worth every single penny. it works...  \n",
       "1  I bought Crompton Ozone 75 Desert Air Cooler i...  \n",
       "2  GREAT packaging by seller. As this was the mos...  \n",
       "3  Delivery was delayed by two days except this e...  \n",
       "4  A Good cooler by Crompton. The height of the c...  "
      ]
     },
     "execution_count": 10,
     "metadata": {},
     "output_type": "execute_result"
    }
   ],
   "source": [
    "value = df['Product_name'].value_counts()\n",
    "value = value[value>200]\n",
    "df['Product_name'] = df['Product_name'].apply(lambda x: x if x in value else 'other')\n",
    "df.head()"
   ]
  },
  {
   "cell_type": "code",
   "execution_count": 11,
   "id": "90d78f55",
   "metadata": {},
   "outputs": [
    {
     "data": {
      "image/png": "[encoded data removed]",
      "text/plain": [
       "<Figure size 640x480 with 1 Axes>"
      ]
     },
     "metadata": {},
     "output_type": "display_data"
    }
   ],
   "source": [
    "sns.countplot(data = df, y = 'Product_name')\n",
    "plt.xlabel('Count')\n",
    "plt.ylabel('Company')\n",
    "plt.show()"
   ]
  },
  {
   "cell_type": "markdown",
   "id": "da96238f",
   "metadata": {},
   "source": [
    "# Analysing the Rating column"
   ]
  },
  {
   "cell_type": "code",
   "execution_count": 12,
   "id": "6347d213",
   "metadata": {},
   "outputs": [
    {
     "data": {
      "text/plain": [
       "Rating\n",
       "5    9139\n",
       "4    4500\n",
       "1    2438\n",
       "3    1982\n",
       "2     968\n",
       "Name: count, dtype: int64"
      ]
     },
     "execution_count": 12,
     "metadata": {},
     "output_type": "execute_result"
    }
   ],
   "source": [
    "df['Rating'].value_counts()"
   ]
  },
  {
   "cell_type": "code",
   "execution_count": 13,
   "id": "aead098b",
   "metadata": {
    "scrolled": false
   },
   "outputs": [
    {
     "data": {
      "image/png": "[encoded data removed]",
      "text/plain": [
       "<Figure size 640x480 with 1 Axes>"
      ]
     },
     "metadata": {},
     "output_type": "display_data"
    }
   ],
   "source": [
    "plt.pie(df['Rating'].value_counts(), labels = df['Rating'].value_counts().index, autopct = '%0.1f%%', startangle = 10)\n",
    "plt.show()"
   ]
  },
  {
   "cell_type": "code",
   "execution_count": 14,
   "id": "e288383d",
   "metadata": {},
   "outputs": [
    {
     "data": {
      "text/html": [
       "<div>\n",
       "<style scoped>\n",
       "    .dataframe tbody tr th:only-of-type {\n",
       "        vertical-align: middle;\n",
       "    }\n",
       "\n",
       "    .dataframe tbody tr th {\n",
       "        vertical-align: top;\n",
       "    }\n",
       "\n",
       "    .dataframe thead th {\n",
       "        text-align: right;\n",
       "    }\n",
       "</style>\n",
       "<table border=\"1\" class=\"dataframe\">\n",
       "  <thead>\n",
       "    <tr style=\"text-align: right;\">\n",
       "      <th></th>\n",
       "      <th>Product_name</th>\n",
       "      <th>Rating</th>\n",
       "      <th>Review</th>\n",
       "      <th>Summary</th>\n",
       "    </tr>\n",
       "  </thead>\n",
       "  <tbody>\n",
       "    <tr>\n",
       "      <th>0</th>\n",
       "      <td>Crompton</td>\n",
       "      <td>5</td>\n",
       "      <td>Simply awesome</td>\n",
       "      <td>it's really worth every single penny. it works...</td>\n",
       "    </tr>\n",
       "    <tr>\n",
       "      <th>1</th>\n",
       "      <td>Crompton</td>\n",
       "      <td>4</td>\n",
       "      <td>Worth the money . Desert Cooler live up to the...</td>\n",
       "      <td>I bought Crompton Ozone 75 Desert Air Cooler i...</td>\n",
       "    </tr>\n",
       "    <tr>\n",
       "      <th>2</th>\n",
       "      <td>Crompton</td>\n",
       "      <td>5</td>\n",
       "      <td>Worth every penny</td>\n",
       "      <td>GREAT packaging by seller. As this was the mos...</td>\n",
       "    </tr>\n",
       "    <tr>\n",
       "      <th>3</th>\n",
       "      <td>Crompton</td>\n",
       "      <td>5</td>\n",
       "      <td>Fabulous!</td>\n",
       "      <td>Delivery was delayed by two days except this e...</td>\n",
       "    </tr>\n",
       "    <tr>\n",
       "      <th>4</th>\n",
       "      <td>Crompton</td>\n",
       "      <td>4</td>\n",
       "      <td>Nice product</td>\n",
       "      <td>A Good cooler by Crompton. The height of the c...</td>\n",
       "    </tr>\n",
       "  </tbody>\n",
       "</table>\n",
       "</div>"
      ],
      "text/plain": [
       "  Product_name  Rating                                             Review  \\\n",
       "0     Crompton       5                                     Simply awesome   \n",
       "1     Crompton       4  Worth the money . Desert Cooler live up to the...   \n",
       "2     Crompton       5                                  Worth every penny   \n",
       "3     Crompton       5                                          Fabulous!   \n",
       "4     Crompton       4                                       Nice product   \n",
       "\n",
       "                                             Summary  \n",
       "0  it's really worth every single penny. it works...  \n",
       "1  I bought Crompton Ozone 75 Desert Air Cooler i...  \n",
       "2  GREAT packaging by seller. As this was the mos...  \n",
       "3  Delivery was delayed by two days except this e...  \n",
       "4  A Good cooler by Crompton. The height of the c...  "
      ]
     },
     "execution_count": 14,
     "metadata": {},
     "output_type": "execute_result"
    }
   ],
   "source": [
    "df.head()"
   ]
  },
  {
   "cell_type": "code",
   "execution_count": 15,
   "id": "55d5248b",
   "metadata": {},
   "outputs": [
    {
     "data": {
      "text/html": [
       "<div>\n",
       "<style scoped>\n",
       "    .dataframe tbody tr th:only-of-type {\n",
       "        vertical-align: middle;\n",
       "    }\n",
       "\n",
       "    .dataframe tbody tr th {\n",
       "        vertical-align: top;\n",
       "    }\n",
       "\n",
       "    .dataframe thead th {\n",
       "        text-align: right;\n",
       "    }\n",
       "</style>\n",
       "<table border=\"1\" class=\"dataframe\">\n",
       "  <thead>\n",
       "    <tr style=\"text-align: right;\">\n",
       "      <th></th>\n",
       "      <th>Product_name</th>\n",
       "      <th>Rating</th>\n",
       "      <th>Review</th>\n",
       "      <th>Summary</th>\n",
       "      <th>text</th>\n",
       "    </tr>\n",
       "  </thead>\n",
       "  <tbody>\n",
       "    <tr>\n",
       "      <th>0</th>\n",
       "      <td>Crompton</td>\n",
       "      <td>5</td>\n",
       "      <td>Simply awesome</td>\n",
       "      <td>it's really worth every single penny. it works...</td>\n",
       "      <td>Simply awesome it's really worth every single ...</td>\n",
       "    </tr>\n",
       "    <tr>\n",
       "      <th>1</th>\n",
       "      <td>Crompton</td>\n",
       "      <td>4</td>\n",
       "      <td>Worth the money . Desert Cooler live up to the...</td>\n",
       "      <td>I bought Crompton Ozone 75 Desert Air Cooler i...</td>\n",
       "      <td>Worth the money . Desert Cooler live up to the...</td>\n",
       "    </tr>\n",
       "    <tr>\n",
       "      <th>2</th>\n",
       "      <td>Crompton</td>\n",
       "      <td>5</td>\n",
       "      <td>Worth every penny</td>\n",
       "      <td>GREAT packaging by seller. As this was the mos...</td>\n",
       "      <td>Worth every penny GREAT packaging by seller. A...</td>\n",
       "    </tr>\n",
       "    <tr>\n",
       "      <th>3</th>\n",
       "      <td>Crompton</td>\n",
       "      <td>5</td>\n",
       "      <td>Fabulous!</td>\n",
       "      <td>Delivery was delayed by two days except this e...</td>\n",
       "      <td>Fabulous! Delivery was delayed by two days exc...</td>\n",
       "    </tr>\n",
       "    <tr>\n",
       "      <th>4</th>\n",
       "      <td>Crompton</td>\n",
       "      <td>4</td>\n",
       "      <td>Nice product</td>\n",
       "      <td>A Good cooler by Crompton. The height of the c...</td>\n",
       "      <td>Nice product A Good cooler by Crompton. The he...</td>\n",
       "    </tr>\n",
       "  </tbody>\n",
       "</table>\n",
       "</div>"
      ],
      "text/plain": [
       "  Product_name  Rating                                             Review  \\\n",
       "0     Crompton       5                                     Simply awesome   \n",
       "1     Crompton       4  Worth the money . Desert Cooler live up to the...   \n",
       "2     Crompton       5                                  Worth every penny   \n",
       "3     Crompton       5                                          Fabulous!   \n",
       "4     Crompton       4                                       Nice product   \n",
       "\n",
       "                                             Summary  \\\n",
       "0  it's really worth every single penny. it works...   \n",
       "1  I bought Crompton Ozone 75 Desert Air Cooler i...   \n",
       "2  GREAT packaging by seller. As this was the mos...   \n",
       "3  Delivery was delayed by two days except this e...   \n",
       "4  A Good cooler by Crompton. The height of the c...   \n",
       "\n",
       "                                                text  \n",
       "0  Simply awesome it's really worth every single ...  \n",
       "1  Worth the money . Desert Cooler live up to the...  \n",
       "2  Worth every penny GREAT packaging by seller. A...  \n",
       "3  Fabulous! Delivery was delayed by two days exc...  \n",
       "4  Nice product A Good cooler by Crompton. The he...  "
      ]
     },
     "execution_count": 15,
     "metadata": {},
     "output_type": "execute_result"
    }
   ],
   "source": [
    "# creating a new column\n",
    "\n",
    "df['text'] = df['Review']+ ' '+df['Summary']\n",
    "df.head()"
   ]
  },
  {
   "cell_type": "code",
   "execution_count": 16,
   "id": "d09c7a9b",
   "metadata": {
    "scrolled": true
   },
   "outputs": [
    {
     "data": {
      "text/html": [
       "<div>\n",
       "<style scoped>\n",
       "    .dataframe tbody tr th:only-of-type {\n",
       "        vertical-align: middle;\n",
       "    }\n",
       "\n",
       "    .dataframe tbody tr th {\n",
       "        vertical-align: top;\n",
       "    }\n",
       "\n",
       "    .dataframe thead th {\n",
       "        text-align: right;\n",
       "    }\n",
       "</style>\n",
       "<table border=\"1\" class=\"dataframe\">\n",
       "  <thead>\n",
       "    <tr style=\"text-align: right;\">\n",
       "      <th></th>\n",
       "      <th>text</th>\n",
       "    </tr>\n",
       "  </thead>\n",
       "  <tbody>\n",
       "    <tr>\n",
       "      <th>0</th>\n",
       "      <td>Simply awesome it's really worth every single ...</td>\n",
       "    </tr>\n",
       "    <tr>\n",
       "      <th>1</th>\n",
       "      <td>Worth the money . Desert Cooler live up to the...</td>\n",
       "    </tr>\n",
       "    <tr>\n",
       "      <th>2</th>\n",
       "      <td>Worth every penny GREAT packaging by seller. A...</td>\n",
       "    </tr>\n",
       "    <tr>\n",
       "      <th>3</th>\n",
       "      <td>Fabulous! Delivery was delayed by two days exc...</td>\n",
       "    </tr>\n",
       "    <tr>\n",
       "      <th>4</th>\n",
       "      <td>Nice product A Good cooler by Crompton. The he...</td>\n",
       "    </tr>\n",
       "  </tbody>\n",
       "</table>\n",
       "</div>"
      ],
      "text/plain": [
       "                                                text\n",
       "0  Simply awesome it's really worth every single ...\n",
       "1  Worth the money . Desert Cooler live up to the...\n",
       "2  Worth every penny GREAT packaging by seller. A...\n",
       "3  Fabulous! Delivery was delayed by two days exc...\n",
       "4  Nice product A Good cooler by Crompton. The he..."
      ]
     },
     "execution_count": 16,
     "metadata": {},
     "output_type": "execute_result"
    }
   ],
   "source": [
    "df = df[['text']]\n",
    "df.head()"
   ]
  },
  {
   "cell_type": "code",
   "execution_count": 17,
   "id": "33b29a55",
   "metadata": {},
   "outputs": [
    {
     "data": {
      "text/html": [
       "<div>\n",
       "<style scoped>\n",
       "    .dataframe tbody tr th:only-of-type {\n",
       "        vertical-align: middle;\n",
       "    }\n",
       "\n",
       "    .dataframe tbody tr th {\n",
       "        vertical-align: top;\n",
       "    }\n",
       "\n",
       "    .dataframe thead th {\n",
       "        text-align: right;\n",
       "    }\n",
       "</style>\n",
       "<table border=\"1\" class=\"dataframe\">\n",
       "  <thead>\n",
       "    <tr style=\"text-align: right;\">\n",
       "      <th></th>\n",
       "      <th>text</th>\n",
       "      <th>clean</th>\n",
       "    </tr>\n",
       "  </thead>\n",
       "  <tbody>\n",
       "    <tr>\n",
       "      <th>0</th>\n",
       "      <td>Simply awesome it's really worth every single ...</td>\n",
       "      <td>simply awesome it s really worth every single ...</td>\n",
       "    </tr>\n",
       "    <tr>\n",
       "      <th>1</th>\n",
       "      <td>Worth the money . Desert Cooler live up to the...</td>\n",
       "      <td>worth the money   desert cooler live up to the...</td>\n",
       "    </tr>\n",
       "    <tr>\n",
       "      <th>2</th>\n",
       "      <td>Worth every penny GREAT packaging by seller. A...</td>\n",
       "      <td>worth every penny great packaging by seller  a...</td>\n",
       "    </tr>\n",
       "    <tr>\n",
       "      <th>3</th>\n",
       "      <td>Fabulous! Delivery was delayed by two days exc...</td>\n",
       "      <td>fabulous  delivery was delayed by two days exc...</td>\n",
       "    </tr>\n",
       "    <tr>\n",
       "      <th>4</th>\n",
       "      <td>Nice product A Good cooler by Crompton. The he...</td>\n",
       "      <td>nice product a good cooler by crompton  the he...</td>\n",
       "    </tr>\n",
       "  </tbody>\n",
       "</table>\n",
       "</div>"
      ],
      "text/plain": [
       "                                                text  \\\n",
       "0  Simply awesome it's really worth every single ...   \n",
       "1  Worth the money . Desert Cooler live up to the...   \n",
       "2  Worth every penny GREAT packaging by seller. A...   \n",
       "3  Fabulous! Delivery was delayed by two days exc...   \n",
       "4  Nice product A Good cooler by Crompton. The he...   \n",
       "\n",
       "                                               clean  \n",
       "0  simply awesome it s really worth every single ...  \n",
       "1  worth the money   desert cooler live up to the...  \n",
       "2  worth every penny great packaging by seller  a...  \n",
       "3  fabulous  delivery was delayed by two days exc...  \n",
       "4  nice product a good cooler by crompton  the he...  "
      ]
     },
     "execution_count": 17,
     "metadata": {},
     "output_type": "execute_result"
    }
   ],
   "source": [
    "# Function to clean the data\n",
    "\n",
    "def clean(x):\n",
    "    x = x.lower()\n",
    "    x = re.sub('[^a-zA-Z]', ' ', x)\n",
    "    return x\n",
    "    \n",
    "df['clean'] = df['text'].apply(clean)\n",
    "df.head()"
   ]
  },
  {
   "cell_type": "markdown",
   "id": "30b553de",
   "metadata": {},
   "source": [
    "# VADER Sentiment Analysis"
   ]
  },
  {
   "cell_type": "code",
   "execution_count": 18,
   "id": "23f248fc",
   "metadata": {
    "scrolled": true
   },
   "outputs": [],
   "source": [
    "# Using Vader Sentiment to find the Score\n",
    "\n",
    "from vaderSentiment.vaderSentiment import SentimentIntensityAnalyzer\n",
    "sentiment = SentimentIntensityAnalyzer()"
   ]
  },
  {
   "cell_type": "code",
   "execution_count": 19,
   "id": "cd0d8e33",
   "metadata": {},
   "outputs": [
    {
     "name": "stderr",
     "output_type": "stream",
     "text": [
      "100%|██████████████████████████████████████████████████████████████████████████| 19027/19027 [00:02<00:00, 6770.62it/s]\n"
     ]
    }
   ],
   "source": [
    "from tqdm import tqdm\n",
    "tqdm.pandas()\n",
    "\n",
    "def polarity(x):\n",
    "    x = sentiment.polarity_scores(x)\n",
    "    if x['compound']>0:\n",
    "        return 'Positive'\n",
    "    else:\n",
    "        return 'Negative'\n",
    "\n",
    "df['score'] = df['clean'].progress_apply(polarity)"
   ]
  },
  {
   "cell_type": "code",
   "execution_count": 20,
   "id": "992df0e6",
   "metadata": {},
   "outputs": [
    {
     "data": {
      "text/html": [
       "<div>\n",
       "<style scoped>\n",
       "    .dataframe tbody tr th:only-of-type {\n",
       "        vertical-align: middle;\n",
       "    }\n",
       "\n",
       "    .dataframe tbody tr th {\n",
       "        vertical-align: top;\n",
       "    }\n",
       "\n",
       "    .dataframe thead th {\n",
       "        text-align: right;\n",
       "    }\n",
       "</style>\n",
       "<table border=\"1\" class=\"dataframe\">\n",
       "  <thead>\n",
       "    <tr style=\"text-align: right;\">\n",
       "      <th></th>\n",
       "      <th>text</th>\n",
       "      <th>clean</th>\n",
       "      <th>score</th>\n",
       "    </tr>\n",
       "  </thead>\n",
       "  <tbody>\n",
       "    <tr>\n",
       "      <th>0</th>\n",
       "      <td>Simply awesome it's really worth every single ...</td>\n",
       "      <td>simply awesome it s really worth every single ...</td>\n",
       "      <td>Positive</td>\n",
       "    </tr>\n",
       "    <tr>\n",
       "      <th>1</th>\n",
       "      <td>Worth the money . Desert Cooler live up to the...</td>\n",
       "      <td>worth the money   desert cooler live up to the...</td>\n",
       "      <td>Positive</td>\n",
       "    </tr>\n",
       "    <tr>\n",
       "      <th>2</th>\n",
       "      <td>Worth every penny GREAT packaging by seller. A...</td>\n",
       "      <td>worth every penny great packaging by seller  a...</td>\n",
       "      <td>Positive</td>\n",
       "    </tr>\n",
       "    <tr>\n",
       "      <th>3</th>\n",
       "      <td>Fabulous! Delivery was delayed by two days exc...</td>\n",
       "      <td>fabulous  delivery was delayed by two days exc...</td>\n",
       "      <td>Positive</td>\n",
       "    </tr>\n",
       "    <tr>\n",
       "      <th>4</th>\n",
       "      <td>Nice product A Good cooler by Crompton. The he...</td>\n",
       "      <td>nice product a good cooler by crompton  the he...</td>\n",
       "      <td>Positive</td>\n",
       "    </tr>\n",
       "  </tbody>\n",
       "</table>\n",
       "</div>"
      ],
      "text/plain": [
       "                                                text  \\\n",
       "0  Simply awesome it's really worth every single ...   \n",
       "1  Worth the money . Desert Cooler live up to the...   \n",
       "2  Worth every penny GREAT packaging by seller. A...   \n",
       "3  Fabulous! Delivery was delayed by two days exc...   \n",
       "4  Nice product A Good cooler by Crompton. The he...   \n",
       "\n",
       "                                               clean     score  \n",
       "0  simply awesome it s really worth every single ...  Positive  \n",
       "1  worth the money   desert cooler live up to the...  Positive  \n",
       "2  worth every penny great packaging by seller  a...  Positive  \n",
       "3  fabulous  delivery was delayed by two days exc...  Positive  \n",
       "4  nice product a good cooler by crompton  the he...  Positive  "
      ]
     },
     "execution_count": 20,
     "metadata": {},
     "output_type": "execute_result"
    }
   ],
   "source": [
    "df.head()"
   ]
  },
  {
   "cell_type": "code",
   "execution_count": 21,
   "id": "47418b55",
   "metadata": {},
   "outputs": [
    {
     "data": {
      "text/plain": [
       "score\n",
       "Positive    15320\n",
       "Negative     3707\n",
       "Name: count, dtype: int64"
      ]
     },
     "execution_count": 21,
     "metadata": {},
     "output_type": "execute_result"
    }
   ],
   "source": [
    "df['score'].value_counts()"
   ]
  },
  {
   "cell_type": "code",
   "execution_count": 22,
   "id": "da4889f2",
   "metadata": {},
   "outputs": [
    {
     "data": {
      "image/png": "[encoded data removed]",
      "text/plain": [
       "<Figure size 640x480 with 1 Axes>"
      ]
     },
     "metadata": {},
     "output_type": "display_data"
    }
   ],
   "source": [
    "plt.pie(df['score'].value_counts(), labels = df['score'].value_counts().index, autopct = '%0.1f%%', \n",
    "        shadow = True, explode = [0,0.2], startangle = 10)\n",
    "plt.show()"
   ]
  },
  {
   "cell_type": "markdown",
   "id": "f98fb0d6",
   "metadata": {},
   "source": [
    "From the above pie chart we can see that, from the given data 80% of reviews are Positive and remanining 20% reviews are Negative"
   ]
  }
 ],
 "metadata": {
  "kernelspec": {
   "display_name": "Python 3 (ipykernel)",
   "language": "python",
   "name": "python3"
  },
  "language_info": {
   "codemirror_mode": {
    "name": "ipython",
    "version": 3
   },
   "file_extension": ".py",
   "mimetype": "text/x-python",
   "name": "python",
   "nbconvert_exporter": "python",
   "pygments_lexer": "ipython3",
   "version": "3.11.5"
  },
  "varInspector": {
   "cols": {
    "lenName": 16,
    "lenType": 16,
    "lenVar": 40
   },
   "kernels_config": {
    "python": {
     "delete_cmd_postfix": "",
     "delete_cmd_prefix": "del ",
     "library": "var_list.py",
     "varRefreshCmd": "print(var_dic_list())"
    },
    "r": {
     "delete_cmd_postfix": ") ",
     "delete_cmd_prefix": "rm(",
     "library": "var_list.r",
     "varRefreshCmd": "cat(var_dic_list()) "
    }
   },
   "types_to_exclude": [
    "module",
    "function",
    "builtin_function_or_method",
    "instance",
    "_Feature"
   ],
   "window_display": false
  }
 },
 "nbformat": 4,
 "nbformat_minor": 5
}
